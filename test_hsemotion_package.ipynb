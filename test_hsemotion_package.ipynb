{
 "cells": [
  {
   "cell_type": "code",
   "execution_count": 7,
   "metadata": {},
   "outputs": [],
   "source": [
    "from RetinaFace_HSEmotion import get_bboxes_emotion\n",
    "import cv2\n",
    "import time\n",
    "\n",
    "vid = cv2.VideoCapture(0)\n",
    "while(True):\n",
    "    s = time.time()\n",
    "    ret, frame = vid.read()\n",
    "\n",
    "    if ret==False:\n",
    "        break\n",
    "\n",
    "    frame = cv2.resize(frame, (640, 480))\n",
    "    frame_in = cv2.cvtColor(frame, cv2.COLOR_BGR2RGB)\n",
    "    try:\n",
    "        bbs_em = get_bboxes_emotion(frame_in)\n",
    "    except:\n",
    "        bbs_em = None\n",
    "    if bbs_em is not None:\n",
    "        for bb, em in bbs_em:\n",
    "            l, t, r, b = bb\n",
    "            cv2.rectangle(frame, (l, t), (r, b), (36,255,12), 5)   \n",
    "            cv2.putText(frame, f'{em}', (l,t),cv2.FONT_HERSHEY_SIMPLEX, 0.9, (36,255,12), 2)\n",
    "    \n",
    "    cv2.putText(frame, f'FPS: {round(1/(time.time()-s),2)}', (10,20),cv2.FONT_HERSHEY_SIMPLEX, 0.5, (36,255,12), 2)\n",
    "    cv2.imshow('frame', frame)\n",
    "      \n",
    "    if cv2.waitKey(1) & 0xFF == ord('q'):\n",
    "        break\n",
    "  \n",
    "# After the loop release the cap object\n",
    "vid.release()\n",
    "# Destroy all the windows\n",
    "cv2.destroyAllWindows()"
   ]
  }
 ],
 "metadata": {
  "kernelspec": {
   "display_name": "Python 3",
   "language": "python",
   "name": "python3"
  },
  "language_info": {
   "codemirror_mode": {
    "name": "ipython",
    "version": 3
   },
   "file_extension": ".py",
   "mimetype": "text/x-python",
   "name": "python",
   "nbconvert_exporter": "python",
   "pygments_lexer": "ipython3",
   "version": "3.8.5"
  },
  "orig_nbformat": 4
 },
 "nbformat": 4,
 "nbformat_minor": 2
}
